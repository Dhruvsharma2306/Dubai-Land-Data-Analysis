{
 "cells": [
  {
   "cell_type": "code",
   "execution_count": 39,
   "id": "7f74d54c",
   "metadata": {},
   "outputs": [],
   "source": [
    "import pandas as pd\n",
    "import re\n",
    "from datetime import datetime\n",
    "import pytz  # Handles timezones"
   ]
  },
  {
   "cell_type": "code",
   "execution_count": 11,
   "id": "e8984a01",
   "metadata": {},
   "outputs": [
    {
     "name": "stdout",
     "output_type": "stream",
     "text": [
      "Defaulting to user installation because normal site-packages is not writeable\n",
      "Collecting RISE\n",
      "  Obtaining dependency information for RISE from https://files.pythonhosted.org/packages/b9/e7/91ddb742829723d9746dc12c5c5d0511d34d6c8e378fa2bdf1e17c68a3d7/rise-5.7.1-py2.py3-none-any.whl.metadata\n",
      "  Downloading rise-5.7.1-py2.py3-none-any.whl.metadata (2.8 kB)\n",
      "Requirement already satisfied: notebook>=6.0 in c:\\program files\\arcgis\\pro\\bin\\python\\envs\\arcgispro-py3\\lib\\site-packages (from RISE) (6.4.12)\n",
      "Requirement already satisfied: jinja2 in c:\\program files\\arcgis\\pro\\bin\\python\\envs\\arcgispro-py3\\lib\\site-packages (from notebook>=6.0->RISE) (3.0.3)\n",
      "Requirement already satisfied: tornado>=6.1 in c:\\program files\\arcgis\\pro\\bin\\python\\envs\\arcgispro-py3\\lib\\site-packages (from notebook>=6.0->RISE) (6.2)\n",
      "Requirement already satisfied: pyzmq>=17 in c:\\program files\\arcgis\\pro\\bin\\python\\envs\\arcgispro-py3\\lib\\site-packages (from notebook>=6.0->RISE) (25.0.2)\n",
      "Requirement already satisfied: argon2-cffi in c:\\program files\\arcgis\\pro\\bin\\python\\envs\\arcgispro-py3\\lib\\site-packages (from notebook>=6.0->RISE) (21.3.0)\n",
      "Requirement already satisfied: traitlets>=4.2.1 in c:\\program files\\arcgis\\pro\\bin\\python\\envs\\arcgispro-py3\\lib\\site-packages (from notebook>=6.0->RISE) (5.5.0)\n",
      "Requirement already satisfied: jupyter-core>=4.6.1 in c:\\program files\\arcgis\\pro\\bin\\python\\envs\\arcgispro-py3\\lib\\site-packages (from notebook>=6.0->RISE) (4.11.2)\n",
      "Requirement already satisfied: jupyter-client>=5.3.4 in c:\\program files\\arcgis\\pro\\bin\\python\\envs\\arcgispro-py3\\lib\\site-packages (from notebook>=6.0->RISE) (6.1.12)\n",
      "Requirement already satisfied: ipython-genutils in c:\\program files\\arcgis\\pro\\bin\\python\\envs\\arcgispro-py3\\lib\\site-packages (from notebook>=6.0->RISE) (0.2.0)\n",
      "Requirement already satisfied: nbformat in c:\\program files\\arcgis\\pro\\bin\\python\\envs\\arcgispro-py3\\lib\\site-packages (from notebook>=6.0->RISE) (5.6.1)\n",
      "Requirement already satisfied: nbconvert>=5 in c:\\program files\\arcgis\\pro\\bin\\python\\envs\\arcgispro-py3\\lib\\site-packages (from notebook>=6.0->RISE) (7.2.1)\n",
      "Requirement already satisfied: nest-asyncio>=1.5 in c:\\program files\\arcgis\\pro\\bin\\python\\envs\\arcgispro-py3\\lib\\site-packages (from notebook>=6.0->RISE) (1.5.6)\n",
      "Requirement already satisfied: ipykernel in c:\\program files\\arcgis\\pro\\bin\\python\\envs\\arcgispro-py3\\lib\\site-packages (from notebook>=6.0->RISE) (6.16.0)\n",
      "Requirement already satisfied: Send2Trash>=1.8.0 in c:\\program files\\arcgis\\pro\\bin\\python\\envs\\arcgispro-py3\\lib\\site-packages (from notebook>=6.0->RISE) (1.8.0)\n",
      "Requirement already satisfied: terminado>=0.8.3 in c:\\program files\\arcgis\\pro\\bin\\python\\envs\\arcgispro-py3\\lib\\site-packages (from notebook>=6.0->RISE) (0.13.1)\n",
      "Requirement already satisfied: prometheus-client in c:\\program files\\arcgis\\pro\\bin\\python\\envs\\arcgispro-py3\\lib\\site-packages (from notebook>=6.0->RISE) (0.8.0)\n",
      "Requirement already satisfied: python-dateutil>=2.1 in c:\\program files\\arcgis\\pro\\bin\\python\\envs\\arcgispro-py3\\lib\\site-packages (from jupyter-client>=5.3.4->notebook>=6.0->RISE) (2.8.2)\n",
      "Requirement already satisfied: beautifulsoup4 in c:\\program files\\arcgis\\pro\\bin\\python\\envs\\arcgispro-py3\\lib\\site-packages (from nbconvert>=5->notebook>=6.0->RISE) (4.12.2)\n",
      "Requirement already satisfied: bleach in c:\\program files\\arcgis\\pro\\bin\\python\\envs\\arcgispro-py3\\lib\\site-packages (from nbconvert>=5->notebook>=6.0->RISE) (4.1.0)\n",
      "Requirement already satisfied: defusedxml in c:\\program files\\arcgis\\pro\\bin\\python\\envs\\arcgispro-py3\\lib\\site-packages (from nbconvert>=5->notebook>=6.0->RISE) (0.7.1)\n",
      "Requirement already satisfied: importlib-metadata>=3.6 in c:\\program files\\arcgis\\pro\\bin\\python\\envs\\arcgispro-py3\\lib\\site-packages (from nbconvert>=5->notebook>=6.0->RISE) (6.0.0)\n",
      "Requirement already satisfied: jupyterlab-pygments in c:\\program files\\arcgis\\pro\\bin\\python\\envs\\arcgispro-py3\\lib\\site-packages (from nbconvert>=5->notebook>=6.0->RISE) (0.2.2)\n",
      "Requirement already satisfied: markupsafe>=2.0 in c:\\program files\\arcgis\\pro\\bin\\python\\envs\\arcgispro-py3\\lib\\site-packages (from nbconvert>=5->notebook>=6.0->RISE) (2.1.1)\n",
      "Requirement already satisfied: mistune<3,>=2.0.3 in c:\\program files\\arcgis\\pro\\bin\\python\\envs\\arcgispro-py3\\lib\\site-packages (from nbconvert>=5->notebook>=6.0->RISE) (2.0.4)\n",
      "Requirement already satisfied: nbclient>=0.5.0 in c:\\program files\\arcgis\\pro\\bin\\python\\envs\\arcgispro-py3\\lib\\site-packages (from nbconvert>=5->notebook>=6.0->RISE) (0.7.0)\n",
      "Requirement already satisfied: packaging in c:\\program files\\arcgis\\pro\\bin\\python\\envs\\arcgispro-py3\\lib\\site-packages (from nbconvert>=5->notebook>=6.0->RISE) (21.3)\n",
      "Requirement already satisfied: pandocfilters>=1.4.1 in c:\\program files\\arcgis\\pro\\bin\\python\\envs\\arcgispro-py3\\lib\\site-packages (from nbconvert>=5->notebook>=6.0->RISE) (1.5.0)\n",
      "Requirement already satisfied: pygments>=2.4.1 in c:\\program files\\arcgis\\pro\\bin\\python\\envs\\arcgispro-py3\\lib\\site-packages (from nbconvert>=5->notebook>=6.0->RISE) (2.14.0)\n",
      "Requirement already satisfied: tinycss2 in c:\\program files\\arcgis\\pro\\bin\\python\\envs\\arcgispro-py3\\lib\\site-packages (from nbconvert>=5->notebook>=6.0->RISE) (1.1.1)\n",
      "Requirement already satisfied: fastjsonschema in c:\\program files\\arcgis\\pro\\bin\\python\\envs\\arcgispro-py3\\lib\\site-packages (from nbformat->notebook>=6.0->RISE) (2.16.2)\n",
      "Requirement already satisfied: jsonschema>=2.6 in c:\\program files\\arcgis\\pro\\bin\\python\\envs\\arcgispro-py3\\lib\\site-packages (from nbformat->notebook>=6.0->RISE) (4.17.3)\n",
      "Requirement already satisfied: pywinpty>=1.1.0 in c:\\program files\\arcgis\\pro\\bin\\python\\envs\\arcgispro-py3\\lib\\site-packages (from terminado>=0.8.3->notebook>=6.0->RISE) (2.0.1)\n",
      "Requirement already satisfied: argon2-cffi-bindings in c:\\program files\\arcgis\\pro\\bin\\python\\envs\\arcgispro-py3\\lib\\site-packages (from argon2-cffi->notebook>=6.0->RISE) (21.2.0)\n",
      "Requirement already satisfied: debugpy>=1.0 in c:\\program files\\arcgis\\pro\\bin\\python\\envs\\arcgispro-py3\\lib\\site-packages (from ipykernel->notebook>=6.0->RISE) (1.5.1)\n",
      "Requirement already satisfied: ipython>=7.23.1 in c:\\program files\\arcgis\\pro\\bin\\python\\envs\\arcgispro-py3\\lib\\site-packages (from ipykernel->notebook>=6.0->RISE) (7.34.0)\n",
      "Requirement already satisfied: matplotlib-inline>=0.1 in c:\\program files\\arcgis\\pro\\bin\\python\\envs\\arcgispro-py3\\lib\\site-packages (from ipykernel->notebook>=6.0->RISE) (0.1.6)\n",
      "Requirement already satisfied: psutil in c:\\program files\\arcgis\\pro\\bin\\python\\envs\\arcgispro-py3\\lib\\site-packages (from ipykernel->notebook>=6.0->RISE) (5.9.0)\n",
      "Requirement already satisfied: zipp>=0.5 in c:\\program files\\arcgis\\pro\\bin\\python\\envs\\arcgispro-py3\\lib\\site-packages (from importlib-metadata>=3.6->nbconvert>=5->notebook>=6.0->RISE) (3.8.0)\n",
      "Requirement already satisfied: setuptools>=18.5 in c:\\program files\\arcgis\\pro\\bin\\python\\envs\\arcgispro-py3\\lib\\site-packages (from ipython>=7.23.1->ipykernel->notebook>=6.0->RISE) (67.7.2)\n",
      "Requirement already satisfied: jedi>=0.16 in c:\\program files\\arcgis\\pro\\bin\\python\\envs\\arcgispro-py3\\lib\\site-packages (from ipython>=7.23.1->ipykernel->notebook>=6.0->RISE) (0.18.2)\n",
      "Requirement already satisfied: decorator in c:\\program files\\arcgis\\pro\\bin\\python\\envs\\arcgispro-py3\\lib\\site-packages (from ipython>=7.23.1->ipykernel->notebook>=6.0->RISE) (5.1.1)\n",
      "Requirement already satisfied: pickleshare in c:\\program files\\arcgis\\pro\\bin\\python\\envs\\arcgispro-py3\\lib\\site-packages (from ipython>=7.23.1->ipykernel->notebook>=6.0->RISE) (0.7.5)\n",
      "Requirement already satisfied: prompt-toolkit!=3.0.0,!=3.0.1,<3.1.0,>=2.0.0 in c:\\program files\\arcgis\\pro\\bin\\python\\envs\\arcgispro-py3\\lib\\site-packages (from ipython>=7.23.1->ipykernel->notebook>=6.0->RISE) (3.0.5)\n",
      "Requirement already satisfied: backcall in c:\\program files\\arcgis\\pro\\bin\\python\\envs\\arcgispro-py3\\lib\\site-packages (from ipython>=7.23.1->ipykernel->notebook>=6.0->RISE) (0.2.0)\n",
      "Requirement already satisfied: colorama in c:\\program files\\arcgis\\pro\\bin\\python\\envs\\arcgispro-py3\\lib\\site-packages (from ipython>=7.23.1->ipykernel->notebook>=6.0->RISE) (0.4.6)\n",
      "Requirement already satisfied: attrs>=17.4.0 in c:\\program files\\arcgis\\pro\\bin\\python\\envs\\arcgispro-py3\\lib\\site-packages (from jsonschema>=2.6->nbformat->notebook>=6.0->RISE) (22.1.0)\n",
      "Requirement already satisfied: pyrsistent!=0.17.0,!=0.17.1,!=0.17.2,>=0.14.0 in c:\\program files\\arcgis\\pro\\bin\\python\\envs\\arcgispro-py3\\lib\\site-packages (from jsonschema>=2.6->nbformat->notebook>=6.0->RISE) (0.18.0)\n",
      "Requirement already satisfied: six>=1.5 in c:\\program files\\arcgis\\pro\\bin\\python\\envs\\arcgispro-py3\\lib\\site-packages (from python-dateutil>=2.1->jupyter-client>=5.3.4->notebook>=6.0->RISE) (1.16.0)\n",
      "Requirement already satisfied: cffi>=1.0.1 in c:\\program files\\arcgis\\pro\\bin\\python\\envs\\arcgispro-py3\\lib\\site-packages (from argon2-cffi-bindings->argon2-cffi->notebook>=6.0->RISE) (1.15.1)\n",
      "Requirement already satisfied: soupsieve>1.2 in c:\\program files\\arcgis\\pro\\bin\\python\\envs\\arcgispro-py3\\lib\\site-packages (from beautifulsoup4->nbconvert>=5->notebook>=6.0->RISE) (2.3.2.post1)\n",
      "Requirement already satisfied: webencodings in c:\\program files\\arcgis\\pro\\bin\\python\\envs\\arcgispro-py3\\lib\\site-packages (from bleach->nbconvert>=5->notebook>=6.0->RISE) (0.5.1)\n",
      "Requirement already satisfied: pyparsing!=3.0.5,>=2.0.2 in c:\\program files\\arcgis\\pro\\bin\\python\\envs\\arcgispro-py3\\lib\\site-packages (from packaging->nbconvert>=5->notebook>=6.0->RISE) (3.0.9)\n",
      "Requirement already satisfied: pycparser in c:\\program files\\arcgis\\pro\\bin\\python\\envs\\arcgispro-py3\\lib\\site-packages (from cffi>=1.0.1->argon2-cffi-bindings->argon2-cffi->notebook>=6.0->RISE) (2.21)\n",
      "Requirement already satisfied: parso<0.9.0,>=0.8.0 in c:\\program files\\arcgis\\pro\\bin\\python\\envs\\arcgispro-py3\\lib\\site-packages (from jedi>=0.16->ipython>=7.23.1->ipykernel->notebook>=6.0->RISE) (0.8.3)\n",
      "Requirement already satisfied: wcwidth in c:\\program files\\arcgis\\pro\\bin\\python\\envs\\arcgispro-py3\\lib\\site-packages (from prompt-toolkit!=3.0.0,!=3.0.1,<3.1.0,>=2.0.0->ipython>=7.23.1->ipykernel->notebook>=6.0->RISE) (0.2.5)\n",
      "Downloading rise-5.7.1-py2.py3-none-any.whl (4.3 MB)\n",
      "   ---------------------------------------- 4.3/4.3 MB 3.7 MB/s eta 0:00:00\n",
      "Installing collected packages: RISE\n",
      "Successfully installed RISE-5.7.1\n",
      "Note: you may need to restart the kernel to use updated packages.\n"
     ]
    }
   ],
   "source": [
    "pip install RISE"
   ]
  },
  {
   "cell_type": "code",
   "execution_count": 3,
   "id": "ff62957e",
   "metadata": {},
   "outputs": [],
   "source": [
    "transactions_curated = pd.read_csv('C:/Users/DSHA-EXT/Desktop/Dubai Land Data/Python_Output_4_final_lat_long.csv')"
   ]
  },
  {
   "cell_type": "code",
   "execution_count": 5,
   "id": "648c016b",
   "metadata": {},
   "outputs": [],
   "source": [
    "df_cleaned = transactions_curated.loc[:, ~transactions_curated.columns.str.endswith('_ar')]"
   ]
  },
  {
   "cell_type": "code",
   "execution_count": 12,
   "id": "0370d85a",
   "metadata": {},
   "outputs": [
    {
     "data": {
      "text/plain": [
       "1427477"
      ]
     },
     "execution_count": 12,
     "metadata": {},
     "output_type": "execute_result"
    }
   ],
   "source": [
    "## Total Transactions\n",
    "len(df_cleaned)"
   ]
  },
  {
   "cell_type": "code",
   "execution_count": 14,
   "id": "c572d2d9",
   "metadata": {},
   "outputs": [
    {
     "name": "stdout",
     "output_type": "stream",
     "text": [
      "<class 'pandas.core.frame.DataFrame'>\n",
      "RangeIndex: 1427477 entries, 0 to 1427476\n",
      "Data columns (total 37 columns):\n",
      " #   Column                Non-Null Count    Dtype  \n",
      "---  ------                --------------    -----  \n",
      " 0   Unnamed: 0            1427477 non-null  int64  \n",
      " 1   transaction_id        1427477 non-null  object \n",
      " 2   procedure_id          1427477 non-null  int64  \n",
      " 3   trans_group_id        1427477 non-null  int64  \n",
      " 4   trans_group_en        1427477 non-null  object \n",
      " 5   procedure_name_en     1427477 non-null  object \n",
      " 6   instance_date         1427477 non-null  object \n",
      " 7   property_type_id      1427477 non-null  int64  \n",
      " 8   property_type_en      1427477 non-null  object \n",
      " 9   property_sub_type_id  1124948 non-null  float64\n",
      " 10  property_sub_type_en  1124948 non-null  object \n",
      " 11  property_usage_en     1427477 non-null  object \n",
      " 12  reg_type_id           1427477 non-null  int64  \n",
      " 13  reg_type_en           1427477 non-null  object \n",
      " 14  area_id               1427477 non-null  int64  \n",
      " 15  area_name_ar_x        1427477 non-null  object \n",
      " 16  area_name_en          1427477 non-null  object \n",
      " 17  building_name_en      998076 non-null   object \n",
      " 18  project_number        997496 non-null   float64\n",
      " 19  project_name_en       997496 non-null   object \n",
      " 20  master_project_en     1213252 non-null  object \n",
      " 21  nearest_landmark_en   1186001 non-null  object \n",
      " 22  nearest_metro_en      1033249 non-null  object \n",
      " 23  nearest_mall_en       1026471 non-null  object \n",
      " 24  rooms_en              1105101 non-null  object \n",
      " 25  has_parking           1427477 non-null  int64  \n",
      " 26  procedure_area        1427477 non-null  float64\n",
      " 27  actual_worth          1427477 non-null  float64\n",
      " 28  meter_sale_price      1427477 non-null  float64\n",
      " 29  rent_value            35573 non-null    float64\n",
      " 30  meter_rent_price      35573 non-null    float64\n",
      " 31  no_of_parties_role_1  1426548 non-null  float64\n",
      " 32  no_of_parties_role_2  1426548 non-null  float64\n",
      " 33  no_of_parties_role_3  1426548 non-null  float64\n",
      " 34  Area Name             1410722 non-null  object \n",
      " 35  Latitude              1422113 non-null  float64\n",
      " 36  Longitude             1422115 non-null  float64\n",
      "dtypes: float64(12), int64(7), object(18)\n",
      "memory usage: 403.0+ MB\n"
     ]
    }
   ],
   "source": [
    "df_cleaned.info()"
   ]
  },
  {
   "cell_type": "code",
   "execution_count": 13,
   "id": "736d4844",
   "metadata": {},
   "outputs": [
    {
     "data": {
      "text/plain": [
       "trans_group_en        3\n",
       "procedure_name_en    51\n",
       "dtype: int64"
      ]
     },
     "execution_count": 13,
     "metadata": {},
     "output_type": "execute_result"
    }
   ],
   "source": [
    "# Unique Transaction Group List and Total Transactions\n",
    "df_cleaned[['trans_group_en','procedure_name_en']].nunique()"
   ]
  },
  {
   "cell_type": "code",
   "execution_count": 17,
   "id": "14914984",
   "metadata": {},
   "outputs": [
    {
     "name": "stdout",
     "output_type": "stream",
     "text": [
      "  trans_group_en transaction_count\n",
      "0          Gifts            52,849\n",
      "1      Mortgages           290,283\n",
      "2          Sales         1,084,345\n"
     ]
    }
   ],
   "source": [
    "# Transaction Count by Transaction Group\n",
    "grouped_counts = df_cleaned.groupby(['trans_group_en'])['transaction_id'].count().reset_index()\n",
    "\n",
    "# Rename the count column for clarity\n",
    "grouped_counts.rename(columns={'transaction_id': 'transaction_count'}, inplace=True)\n",
    "\n",
    "# Format transaction_count with commas\n",
    "grouped_counts['transaction_count'] = grouped_counts['transaction_count'].apply(lambda x: f\"{x:,}\")\n",
    "\n",
    "# Display result\n",
    "print(grouped_counts.head())\n",
    "\n"
   ]
  },
  {
   "cell_type": "code",
   "execution_count": 20,
   "id": "0b98194c",
   "metadata": {},
   "outputs": [
    {
     "name": "stdout",
     "output_type": "stream",
     "text": [
      "                                   procedure_name_en transaction_count\n",
      "46                                              Sell           445,827\n",
      "47                           Sell - Pre registration           443,100\n",
      "34                             Mortgage Registration           195,470\n",
      "7                                       Delayed Sell           130,458\n",
      "24                         Lease to Own Registration            57,353\n",
      "15                                             Grant            48,025\n",
      "31                                   Modify Mortgage            19,638\n",
      "5                                   Delayed Mortgage            14,392\n",
      "13                          Development Registration            12,171\n",
      "48                                  Sell Development            10,918\n",
      "22                        Lease Finance Registration             7,397\n",
      "25        Lease to Own Registration Pre-Registration             7,083\n",
      "33                         Mortgage Pre-Registration             5,723\n",
      "11                              Development Mortgage             5,591\n",
      "14         Development Registration Pre-Registration             3,881\n",
      "35                                 Mortgage Transfer             3,286\n",
      "3                  Delayed Lease to Own Registration             2,178\n",
      "17                            Grant Pre-Registration             2,123\n",
      "18                             Grant on Delayed Sell             1,611\n",
      "45                              Sale On Payment Plan             1,580\n",
      "42                   Portfolio Mortgage Registration             1,360\n",
      "1                                Delayed Development             1,216\n",
      "16                                 Grant Development             1,090\n",
      "20                    Lease Development Registration               942\n",
      "26                             Lease to Own Transfer               823\n",
      "30                       Modify Development Mortgage               686\n",
      "28          Lease to Own on Development Registration               600\n",
      "10            Delayed Sell Lease to Own Registration               566\n",
      "40                   Portfolio Mortgage Modification               511\n",
      "0                                Adding Land By Sell               458\n",
      "23                               Lease to Own Modify               376\n",
      "21                        Lease Finance Modification               327\n",
      "49               Sell Development - Pre Registration               216\n",
      "8                           Delayed Sell Development               152\n",
      "29                          Modify Delayed Mortgage                 91\n",
      "43  Portfolio Mortgage Registration Pre-Registration                62\n",
      "39       Portfolio Mortgage Development Registration                46\n",
      "36                Mortgage Transfer Pre-Registration                42\n",
      "32                  Modify Mortgage Pre-Registration                27\n",
      "41  Portfolio Mortgage Modification Pre-Registration                17\n",
      "6                         Delayed Portfolio Mortgage                17\n",
      "12             Development Mortgage Pre-Registration                12\n",
      "27          Lease to Own on Development Modification                 9\n",
      "50                     Transfer Development Mortgage                 7\n",
      "38       Portfolio Mortgage Development Modification                 6\n",
      "37                Portfolio Development Registration                 6\n",
      "44                       Portfolio Mortgage Transfer                 2\n",
      "19                          Lease Development Modify                 2\n",
      "9             Delayed Sell Lease To Own Modification                 1\n",
      "4                      Delayed Lease to Own Transfer                 1\n",
      "2                        Delayed Lease to Own Modify                 1\n"
     ]
    }
   ],
   "source": [
    "# Transaction Count by Procedure Name\n",
    "grouped_counts1 = df_cleaned.groupby(['procedure_name_en'])['transaction_id'].count().reset_index()\n",
    "\n",
    "# Rename the count column for clarity\n",
    "grouped_counts1.rename(columns={'transaction_id': 'transaction_count'}, inplace=True)\n",
    "\n",
    "# Sort by transaction_count before formatting (as it's still numeric)\n",
    "grouped_counts1.sort_values(by='transaction_count', ascending=False, inplace=True)\n",
    "\n",
    "# Format transaction_count with commas\n",
    "grouped_counts1['transaction_count'] = grouped_counts1['transaction_count'].apply(lambda x: f\"{x:,}\")\n",
    "\n",
    "# Display result\n",
    "print(grouped_counts1.head(52))\n"
   ]
  },
  {
   "cell_type": "code",
   "execution_count": 23,
   "id": "662de9b4",
   "metadata": {},
   "outputs": [
    {
     "name": "stdout",
     "output_type": "stream",
     "text": [
      "  property_type_en transaction_count\n",
      "2             Unit           998,076\n",
      "3            Villa           271,206\n",
      "1             Land           123,428\n",
      "0         Building            34,767\n"
     ]
    }
   ],
   "source": [
    "# Transaction Count by Property Type Name\n",
    "grouped_counts2 = df_cleaned.groupby(['property_type_en'])['transaction_id'].count().reset_index()\n",
    "\n",
    "# Rename the count column for clarity\n",
    "grouped_counts2.rename(columns={'transaction_id': 'transaction_count'}, inplace=True)\n",
    "\n",
    "# Sort by transaction_count before formatting (as it's still numeric)\n",
    "grouped_counts2.sort_values(by='transaction_count', ascending=False, inplace=True)\n",
    "\n",
    "# Format transaction_count with commas\n",
    "grouped_counts2['transaction_count'] = grouped_counts2['transaction_count'].apply(lambda x: f\"{x:,}\")\n",
    "\n",
    "# Display result\n",
    "print(grouped_counts2.head(100))"
   ]
  },
  {
   "cell_type": "code",
   "execution_count": 24,
   "id": "f798bbd7",
   "metadata": {},
   "outputs": [
    {
     "name": "stdout",
     "output_type": "stream",
     "text": [
      "   property_sub_type_en transaction_count\n",
      "2                  Flat           876,955\n",
      "15                Villa           126,630\n",
      "7                Office            64,301\n",
      "5       Hotel Apartment            26,271\n",
      "9                  Shop            15,254\n",
      "6           Hotel Rooms            13,594\n",
      "17             Workshop               529\n",
      "12   Stacked Townhouses               477\n",
      "13                Store               319\n",
      "0              Building               245\n",
      "16            Warehouse               155\n",
      "1                Clinic                65\n",
      "4                 Hotel                41\n",
      "10           Show Rooms                41\n",
      "11      Sized Partition                38\n",
      "3             Gymnasium                28\n",
      "8               Parking                 4\n",
      "14                 Unit                 1\n"
     ]
    }
   ],
   "source": [
    "# Transaction Count by Property Sub type Name\n",
    "grouped_counts3 = df_cleaned.groupby(['property_sub_type_en'])['transaction_id'].count().reset_index()\n",
    "\n",
    "# Rename the count column for clarity\n",
    "grouped_counts3.rename(columns={'transaction_id': 'transaction_count'}, inplace=True)\n",
    "\n",
    "# Sort by transaction_count before formatting (as it's still numeric)\n",
    "grouped_counts3.sort_values(by='transaction_count', ascending=False, inplace=True)\n",
    "\n",
    "# Format transaction_count with commas\n",
    "grouped_counts3['transaction_count'] = grouped_counts3['transaction_count'].apply(lambda x: f\"{x:,}\")\n",
    "\n",
    "# Display result\n",
    "print(grouped_counts3.head(100))"
   ]
  },
  {
   "cell_type": "code",
   "execution_count": 25,
   "id": "e7511777",
   "metadata": {},
   "outputs": [
    {
     "name": "stdout",
     "output_type": "stream",
     "text": [
      "                        property_usage_en transaction_count\n",
      "8                             Residential         1,201,675\n",
      "1                              Commercial           145,997\n",
      "2                            Hospitality             40,257\n",
      "9                Residential / Commercial            14,196\n",
      "7                                   Other            13,832\n",
      "6                               Multi-Use             5,705\n",
      "3                              Industrial             3,507\n",
      "0                            Agricultural             1,101\n",
      "4                 Industrial / Commercial               661\n",
      "10                                Storage               482\n",
      "5   Industrial / Commercial / Residential                64\n"
     ]
    }
   ],
   "source": [
    "# Transaction Count by Property Usage Name\n",
    "grouped_counts4 = df_cleaned.groupby(['property_usage_en'])['transaction_id'].count().reset_index()\n",
    "\n",
    "# Rename the count column for clarity\n",
    "grouped_counts4.rename(columns={'transaction_id': 'transaction_count'}, inplace=True)\n",
    "\n",
    "# Sort by transaction_count before formatting (as it's still numeric)\n",
    "grouped_counts4.sort_values(by='transaction_count', ascending=False, inplace=True)\n",
    "\n",
    "# Format transaction_count with commas\n",
    "grouped_counts4['transaction_count'] = grouped_counts4['transaction_count'].apply(lambda x: f\"{x:,}\")\n",
    "\n",
    "# Display result\n",
    "print(grouped_counts4.head(100))"
   ]
  },
  {
   "cell_type": "code",
   "execution_count": 28,
   "id": "0ac84f90",
   "metadata": {},
   "outputs": [
    {
     "name": "stdout",
     "output_type": "stream",
     "text": [
      "               area_name_en transaction_count\n",
      "182             Marsa Dubai           127,848\n",
      "92         Al Thanyah Fifth            90,535\n",
      "141            Burj Khalifa            87,881\n",
      "12   Al Barsha South Fourth            86,382\n",
      "143            Business Bay            77,133\n",
      "..                      ...               ...\n",
      "47               Al Kheeran             1,133\n",
      "61              Al Murqabat             1,121\n",
      "63               Al Muteena             1,087\n",
      "40                Al Karama             1,081\n",
      "240         Um Suqaim First             1,072\n",
      "\n",
      "[100 rows x 2 columns]\n"
     ]
    }
   ],
   "source": [
    "# Transaction Count by Area Name\n",
    "grouped_counts5 = df_cleaned.groupby(['area_name_en'])['transaction_id'].count().reset_index()\n",
    "\n",
    "# Rename the count column for clarity\n",
    "grouped_counts5.rename(columns={'transaction_id': 'transaction_count'}, inplace=True)\n",
    "\n",
    "# Sort by transaction_count before formatting (as it's still numeric)\n",
    "grouped_counts5.sort_values(by='transaction_count', ascending=False, inplace=True)\n",
    "\n",
    "# Format transaction_count with commas\n",
    "grouped_counts5['transaction_count'] = grouped_counts5['transaction_count'].apply(lambda x: f\"{x:,}\")\n",
    "\n",
    "# Display result\n",
    "print(grouped_counts5.head(100))"
   ]
  },
  {
   "cell_type": "code",
   "execution_count": 30,
   "id": "65916ad8",
   "metadata": {},
   "outputs": [
    {
     "name": "stdout",
     "output_type": "stream",
     "text": [
      "                        building_name_en transaction_count\n",
      "3178                      Seven City JLT             3,402\n",
      "818                         Burj Khalifa             3,315\n",
      "2718                      PRINCESS TOWER             2,819\n",
      "3055                     SILICON GATES 1             2,704\n",
      "2333                     Marina Pinnacle             2,673\n",
      "...                                  ...               ...\n",
      "1912                        LAGO VISTA-A             1,100\n",
      "2660  PARAMOUNT TOWER HOTEL & RESIDENCES             1,096\n",
      "1298                          Dubai Star             1,096\n",
      "1624                     Goldcrest Views             1,090\n",
      "131                            AL MANARA             1,088\n",
      "\n",
      "[100 rows x 2 columns]\n"
     ]
    }
   ],
   "source": [
    "# Transaction Count by Building Name \n",
    "grouped_counts6 = df_cleaned.groupby(['building_name_en'])['transaction_id'].count().reset_index()\n",
    "\n",
    "# Rename the count column for clarity\n",
    "grouped_counts6.rename(columns={'transaction_id': 'transaction_count'}, inplace=True)\n",
    "\n",
    "# Sort by transaction_count before formatting (as it's still numeric)\n",
    "grouped_counts6.sort_values(by='transaction_count', ascending=False, inplace=True)\n",
    "\n",
    "# Format transaction_count with commas\n",
    "grouped_counts6['transaction_count'] = grouped_counts6['transaction_count'].apply(lambda x: f\"{x:,}\")\n",
    "\n",
    "# Display result\n",
    "print(grouped_counts6.head(100))"
   ]
  },
  {
   "cell_type": "code",
   "execution_count": 31,
   "id": "f367cacf",
   "metadata": {},
   "outputs": [
    {
     "name": "stdout",
     "output_type": "stream",
     "text": [
      "                 project_name_en transaction_count\n",
      "1961                     REMRAAM            10,866\n",
      "2103                  SKY COURTS            10,053\n",
      "1241              JUMEIRAH PARK              6,778\n",
      "1195  INTERNATIONAL CITY EMARATI             4,882\n",
      "2589             VICTORY HEIGHTS             4,233\n",
      "...                          ...               ...\n",
      "542               CENTRIUM TOWER             1,486\n",
      "182                 AYKON CITY 2             1,485\n",
      "2330   THE FIELDS AT D11 - MBRMC             1,474\n",
      "565               CONCORDE TOWER             1,470\n",
      "2392        THE SUSTAINABLE CITY             1,450\n",
      "\n",
      "[100 rows x 2 columns]\n"
     ]
    }
   ],
   "source": [
    "# Transaction Count by Project Name  \n",
    "grouped_counts7 = df_cleaned.groupby(['project_name_en'])['transaction_id'].count().reset_index()\n",
    "\n",
    "# Rename the count column for clarity\n",
    "grouped_counts7.rename(columns={'transaction_id': 'transaction_count'}, inplace=True)\n",
    "\n",
    "# Sort by transaction_count before formatting (as it's still numeric)\n",
    "grouped_counts7.sort_values(by='transaction_count', ascending=False, inplace=True)\n",
    "\n",
    "# Format transaction_count with commas\n",
    "grouped_counts7['transaction_count'] = grouped_counts7['transaction_count'].apply(lambda x: f\"{x:,}\")\n",
    "\n",
    "# Display result\n",
    "print(grouped_counts7.head(100))"
   ]
  },
  {
   "cell_type": "code",
   "execution_count": 32,
   "id": "75ae4210",
   "metadata": {},
   "outputs": [
    {
     "name": "stdout",
     "output_type": "stream",
     "text": [
      "              master_project_en transaction_count\n",
      "48                 Business Bay            94,098\n",
      "121     Jumeirah Village Circle            85,547\n",
      "90                 Dubai Marina            85,393\n",
      "119       Jumeirah Lakes Towers            66,490\n",
      "47                 Burj Khalifa            60,826\n",
      "..                          ...               ...\n",
      "173                 Springs - 5             1,258\n",
      "30   Arabian Ranches - Savannah             1,190\n",
      "189                   The World             1,154\n",
      "159              Palm Jabal Ali             1,150\n",
      "77        DUBAI HILLS - SIDRA 2             1,142\n",
      "\n",
      "[100 rows x 2 columns]\n"
     ]
    }
   ],
   "source": [
    "# Transaction Count by Master Project Name  \n",
    "grouped_counts8 = df_cleaned.groupby(['master_project_en'])['transaction_id'].count().reset_index()\n",
    "\n",
    "# Rename the count column for clarity\n",
    "grouped_counts8.rename(columns={'transaction_id': 'transaction_count'}, inplace=True)\n",
    "\n",
    "# Sort by transaction_count before formatting (as it's still numeric)\n",
    "grouped_counts8.sort_values(by='transaction_count', ascending=False, inplace=True)\n",
    "\n",
    "# Format transaction_count with commas\n",
    "grouped_counts8['transaction_count'] = grouped_counts8['transaction_count'].apply(lambda x: f\"{x:,}\")\n",
    "\n",
    "# Display result\n",
    "print(grouped_counts8.head(100))"
   ]
  },
  {
   "cell_type": "code",
   "execution_count": 33,
   "id": "f01ab3e7",
   "metadata": {},
   "outputs": [
    {
     "name": "stdout",
     "output_type": "stream",
     "text": [
      "                  nearest_landmark_en transaction_count\n",
      "13       Sports City Swimming Academy           302,130\n",
      "1                        Burj Al Arab           231,075\n",
      "3                      Downtown Dubai           176,880\n",
      "12                         Motor City           108,494\n",
      "10               IMG World Adventures            93,998\n",
      "5         Dubai International Airport            86,114\n",
      "2                        Burj Khalifa            70,946\n",
      "7                      Expo 2020 Site            42,870\n",
      "4                Dubai Cycling Course            38,067\n",
      "8                      Global Village            15,004\n",
      "0   Al Makhtoum International Airport             8,317\n",
      "9               Hamdan Sports Complex             6,304\n",
      "6             Dubai Parks and Resorts             5,716\n",
      "11                          Jabel Ali                86\n"
     ]
    }
   ],
   "source": [
    "# Transaction Count by Nearest Landmark Name  \n",
    "grouped_counts9 = df_cleaned.groupby(['nearest_landmark_en'])['transaction_id'].count().reset_index()\n",
    "\n",
    "# Rename the count column for clarity\n",
    "grouped_counts9.rename(columns={'transaction_id': 'transaction_count'}, inplace=True)\n",
    "\n",
    "# Sort by transaction_count before formatting (as it's still numeric)\n",
    "grouped_counts9.sort_values(by='transaction_count', ascending=False, inplace=True)\n",
    "\n",
    "# Format transaction_count with commas\n",
    "grouped_counts9['transaction_count'] = grouped_counts9['transaction_count'].apply(lambda x: f\"{x:,}\")\n",
    "\n",
    "# Display result\n",
    "print(grouped_counts9.head(100))"
   ]
  },
  {
   "cell_type": "code",
   "execution_count": 34,
   "id": "f6ea9c05",
   "metadata": {},
   "outputs": [
    {
     "name": "stdout",
     "output_type": "stream",
     "text": [
      "        nearest_mall_en transaction_count\n",
      "4           Marina Mall           415,909\n",
      "1            Dubai Mall           267,922\n",
      "3  Mall of the Emirates           149,510\n",
      "0    City Centre Mirdif           122,688\n",
      "2    Ibn-e-Battuta Mall            70,442\n"
     ]
    }
   ],
   "source": [
    "# Transaction Count by Nearest Mall Name  \n",
    "grouped_counts10 = df_cleaned.groupby(['nearest_mall_en'])['transaction_id'].count().reset_index()\n",
    "\n",
    "# Rename the count column for clarity\n",
    "grouped_counts10.rename(columns={'transaction_id': 'transaction_count'}, inplace=True)\n",
    "\n",
    "# Sort by transaction_count before formatting (as it's still numeric)\n",
    "grouped_counts10.sort_values(by='transaction_count', ascending=False, inplace=True)\n",
    "\n",
    "# Format transaction_count with commas\n",
    "grouped_counts10['transaction_count'] = grouped_counts10['transaction_count'].apply(lambda x: f\"{x:,}\")\n",
    "\n",
    "# Display result\n",
    "print(grouped_counts10.head(100))"
   ]
  },
  {
   "cell_type": "code",
   "execution_count": 35,
   "id": "d2f86020",
   "metadata": {},
   "outputs": [
    {
     "name": "stdout",
     "output_type": "stream",
     "text": [
      "                        nearest_metro_en transaction_count\n",
      "16  Buj Khalifa Dubai Mall Metro Station           115,976\n",
      "18            Business Bay Metro Station            96,935\n",
      "23                   Dubai Internet City            92,662\n",
      "43                 Nakheel Metro Station            87,798\n",
      "48               Rashidiya Metro Station            80,170\n",
      "21                      Damac Properties            76,784\n",
      "37                 Jumeirah Lakes Towers            61,733\n",
      "51               Sharaf Dg Metro Station            42,911\n",
      "30    First Abu Dhabi Bank Metro Station            40,899\n",
      "32                         Harbour Tower            31,051\n",
      "36              Jumeirah Beach Residency            29,900\n",
      "47                         Palm Jumeirah            27,160\n",
      "19                   Creek Metro Station            25,711\n",
      "34             Ibn Battuta Metro Station            25,666\n",
      "42                           Mina Seyahi            25,040\n",
      "35               Jumeirah Beach Resdency            24,884\n",
      "40                         Marina Towers            15,898\n",
      "39             Marina Mall Metro Station            14,781\n",
      "44               Noor Bank Metro Station            14,587\n",
      "28                Etisalat Metro Station            10,638\n",
      "24                          Dubai Marina             9,739\n",
      "20                  DANUBE Metro Station             7,912\n",
      "7                 Al Jadaf Metro Station             7,111\n",
      "53            Trade Centre Metro Station             6,906\n",
      "8              Al Jafiliya Metro Station             6,012\n",
      "54            UAE Exchange Metro Station             5,106\n",
      "14                             Al Sufouh             4,629\n",
      "25                  ENERGY Metro Station             4,366\n",
      "29                      Financial Centre             3,628\n",
      "1    Abu Baker Al Siddique Metro Station             3,317\n",
      "6              Al Ghubaiba Metro Station             3,064\n",
      "38                     Knowledge Village             2,891\n",
      "33         Healthcare City Metro Station             2,542\n",
      "46             Palm Deira Metro Stations             2,474\n",
      "50            Salah Al Din Metro Station             2,237\n",
      "2                 Abu Hail Metro Station             2,155\n",
      "5                Al Fahidi Metro Station             1,778\n",
      "27         Emirates Towers Metro Station             1,727\n",
      "11               Al Qusais Metro Station             1,624\n",
      "0                     ADCB Metro Station             1,500\n",
      "15          Baniyas Square Metro Station             1,307\n",
      "13                Al Rigga Metro Station             1,272\n",
      "22                     Deira City Centre             1,221\n",
      "9                 Al Nahda Metro Station             1,068\n",
      "10              Al Qiyadah Metro Station             1,003\n",
      "26                Emirates Metro Station             1,001\n",
      "49                 STADIUM Metro Station               889\n",
      "3                      Airport Free Zone               847\n",
      "12                  Al Ras Metro Station               806\n",
      "17                Burjuman Metro Station               643\n",
      "55                   Union Metro Station               301\n",
      "31                   GGICO Metro Station               259\n",
      "45               Oud Metha Metro Station               252\n",
      "41                            Media City               184\n",
      "4       Airport Terminal 1 Metro Station               152\n",
      "52                           Terminal 3                142\n"
     ]
    }
   ],
   "source": [
    "# Transaction Count by Nearest Metro Name  \n",
    "grouped_counts11 = df_cleaned.groupby(['nearest_metro_en'])['transaction_id'].count().reset_index()\n",
    "\n",
    "# Rename the count column for clarity\n",
    "grouped_counts11.rename(columns={'transaction_id': 'transaction_count'}, inplace=True)\n",
    "\n",
    "# Sort by transaction_count before formatting (as it's still numeric)\n",
    "grouped_counts11.sort_values(by='transaction_count', ascending=False, inplace=True)\n",
    "\n",
    "# Format transaction_count with commas\n",
    "grouped_counts11['transaction_count'] = grouped_counts11['transaction_count'].apply(lambda x: f\"{x:,}\")\n",
    "\n",
    "# Display result\n",
    "print(grouped_counts11.head(100))"
   ]
  },
  {
   "cell_type": "code",
   "execution_count": 37,
   "id": "735288d1",
   "metadata": {},
   "outputs": [
    {
     "name": "stdout",
     "output_type": "stream",
     "text": [
      "       rooms_en transaction_count\n",
      "0         1 B/R           372,564\n",
      "1         2 B/R           269,501\n",
      "15       Studio           189,085\n",
      "2         3 B/R           156,328\n",
      "10       Office            55,217\n",
      "3         4 B/R            48,097\n",
      "12         Shop             6,307\n",
      "4         5 B/R             4,788\n",
      "11    PENTHOUSE             1,736\n",
      "13  Single Room               788\n",
      "14        Store               319\n",
      "5         6 B/R               296\n",
      "6         7 B/R                45\n",
      "9           GYM                24\n",
      "7         8 B/R                 4\n",
      "8         9 B/R                 2\n"
     ]
    }
   ],
   "source": [
    "# Transaction Count by Rooms  \n",
    "grouped_counts12 = df_cleaned.groupby(['rooms_en'])['transaction_id'].count().reset_index()\n",
    "\n",
    "# Rename the count column for clarity\n",
    "grouped_counts12.rename(columns={'transaction_id': 'transaction_count'}, inplace=True)\n",
    "\n",
    "# Sort by transaction_count before formatting (as it's still numeric)\n",
    "grouped_counts12.sort_values(by='transaction_count', ascending=False, inplace=True)\n",
    "\n",
    "# Format transaction_count with commas\n",
    "grouped_counts12['transaction_count'] = grouped_counts12['transaction_count'].apply(lambda x: f\"{x:,}\")\n",
    "\n",
    "# Display result\n",
    "print(grouped_counts12.head(100))"
   ]
  },
  {
   "cell_type": "code",
   "execution_count": 38,
   "id": "cc4ee419",
   "metadata": {},
   "outputs": [
    {
     "name": "stdout",
     "output_type": "stream",
     "text": [
      "   has_parking transaction_count\n",
      "1            1           921,809\n",
      "0            0           505,668\n"
     ]
    }
   ],
   "source": [
    "# Transaction Count by Has Parking  \n",
    "grouped_counts13 = df_cleaned.groupby(['has_parking'])['transaction_id'].count().reset_index()\n",
    "\n",
    "# Rename the count column for clarity\n",
    "grouped_counts13.rename(columns={'transaction_id': 'transaction_count'}, inplace=True)\n",
    "\n",
    "# Sort by transaction_count before formatting (as it's still numeric)\n",
    "grouped_counts13.sort_values(by='transaction_count', ascending=False, inplace=True)\n",
    "\n",
    "# Format transaction_count with commas\n",
    "grouped_counts13['transaction_count'] = grouped_counts13['transaction_count'].apply(lambda x: f\"{x:,}\")\n",
    "\n",
    "# Display result\n",
    "print(grouped_counts13.head(100))"
   ]
  },
  {
   "cell_type": "code",
   "execution_count": 41,
   "id": "811a57b7",
   "metadata": {},
   "outputs": [
    {
     "name": "stdout",
     "output_type": "stream",
     "text": [
      "           reg_type_en transaction_count\n",
      "0  Existing Properties           965,191\n",
      "1  Off-Plan Properties           462,286\n"
     ]
    }
   ],
   "source": [
    "# Transaction Count by Registration Type \n",
    "grouped_counts14 = df_cleaned.groupby(['reg_type_en'])['transaction_id'].count().reset_index()\n",
    "\n",
    "# Rename the count column for clarity\n",
    "grouped_counts14.rename(columns={'transaction_id': 'transaction_count'}, inplace=True)\n",
    "\n",
    "# Sort by transaction_count before formatting (as it's still numeric)\n",
    "grouped_counts14.sort_values(by='transaction_count', ascending=False, inplace=True)\n",
    "\n",
    "# Format transaction_count with commas\n",
    "grouped_counts14['transaction_count'] = grouped_counts14['transaction_count'].apply(lambda x: f\"{x:,}\")\n",
    "\n",
    "# Display result\n",
    "print(grouped_counts14.head(100))"
   ]
  },
  {
   "cell_type": "code",
   "execution_count": 42,
   "id": "304ba692",
   "metadata": {},
   "outputs": [],
   "source": [
    "# Define New Zealand timezone\n",
    "nz_tz = pytz.timezone(\"Pacific/Auckland\")\n",
    "\n",
    "# Get current time in NZ timezone\n",
    "timestamp = datetime.now(nz_tz).strftime(\"%Y%m%d_%H%M\")\n",
    "\n",
    "# Create filename with timestamp\n",
    "filename = f\"C:/Users/DSHA-EXT/Desktop/Dubai Land Data/Python Output/Final/DLD Data Transactions Summary_{timestamp}.xlsx\"\n",
    "\n",
    "# Write DataFrames to the timestamped Excel file\n",
    "with pd.ExcelWriter(filename, engine=\"xlsxwriter\") as writer:\n",
    "    grouped_counts.to_excel(writer, sheet_name=\"Transaction Group\", index=False)\n",
    "    grouped_counts1.to_excel(writer, sheet_name=\"Procedure Name\", index=False)  \n",
    "    grouped_counts2.to_excel(writer, sheet_name=\"Property Type\", index=False)\n",
    "    grouped_counts3.to_excel(writer, sheet_name=\"Property Sub Type\", index=False)  \n",
    "    grouped_counts4.to_excel(writer, sheet_name=\"Property Usage\", index=False) \n",
    "    grouped_counts14.to_excel(writer, sheet_name=\"Registration Type\", index=False) \n",
    "    grouped_counts5.to_excel(writer, sheet_name=\"Area Name\", index=False)\n",
    "    grouped_counts6.to_excel(writer, sheet_name=\"Building Name\", index=False)\n",
    "    grouped_counts7.to_excel(writer, sheet_name=\"Project Name\", index=False)\n",
    "    grouped_counts8.to_excel(writer, sheet_name=\"Master Project Name\", index=False)\n",
    "    grouped_counts9.to_excel(writer, sheet_name=\"Nearest Landmark\", index=False)\n",
    "    grouped_counts10.to_excel(writer, sheet_name=\"Nearest Mall\", index=False)\n",
    "    grouped_counts11.to_excel(writer, sheet_name=\"Nearest Metro\", index=False)\n",
    "    grouped_counts12.to_excel(writer, sheet_name=\"Rooms\", index=False)\n",
    "    grouped_counts13.to_excel(writer, sheet_name=\"Has Parking\", index=False)"
   ]
  },
  {
   "cell_type": "code",
   "execution_count": null,
   "id": "a06fd673",
   "metadata": {},
   "outputs": [],
   "source": []
  }
 ],
 "metadata": {
  "kernelspec": {
   "display_name": "Python 3 (ipykernel)",
   "language": "python",
   "name": "python3"
  },
  "language_info": {
   "codemirror_mode": {
    "name": "ipython",
    "version": 3
   },
   "file_extension": ".py",
   "mimetype": "text/x-python",
   "name": "python",
   "nbconvert_exporter": "python",
   "pygments_lexer": "ipython3",
   "version": "3.12.7"
  }
 },
 "nbformat": 4,
 "nbformat_minor": 5
}
